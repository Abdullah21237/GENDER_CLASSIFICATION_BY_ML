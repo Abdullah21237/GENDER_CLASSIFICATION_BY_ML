{
 "cells": [
  {
   "cell_type": "code",
   "execution_count": 1,
   "metadata": {
    "colab": {
     "base_uri": "https://localhost:8080/"
    },
    "executionInfo": {
     "elapsed": 1675731,
     "status": "ok",
     "timestamp": 1694412276581,
     "user": {
      "displayName": "Hafiz Abdullah Shahbaz",
      "userId": "16114042347370227324"
     },
     "user_tz": -300
    },
    "id": "HNKW-0Gz2PBH",
    "outputId": "7afe70a6-a679-4dca-86a4-ca01433bfc0b"
   },
   "outputs": [
    {
     "name": "stdout",
     "output_type": "stream",
     "text": [
      "Model: DecisionTreeClassifier\n",
      "Validation Accuracy: 1.00, Precision: 1.00, Recall: 1.00, F1-Score: 1.00\n",
      "Test Accuracy: 1.00, Precision: 1.00, Recall: 1.00, F1-Score: 1.00\n",
      "\n",
      "Model: RandomForestClassifier\n",
      "Validation Accuracy: 1.00, Precision: 1.00, Recall: 1.00, F1-Score: 1.00\n",
      "Test Accuracy: 1.00, Precision: 1.00, Recall: 1.00, F1-Score: 1.00\n",
      "\n",
      "Model: KNeighborsClassifier\n",
      "Validation Accuracy: 0.96, Precision: 0.96, Recall: 0.96, F1-Score: 0.96\n",
      "Test Accuracy: 0.95, Precision: 0.95, Recall: 0.95, F1-Score: 0.95\n",
      "\n",
      "Model: SVC\n",
      "Validation Accuracy: 0.99, Precision: 0.99, Recall: 0.99, F1-Score: 0.99\n",
      "Test Accuracy: 0.99, Precision: 0.99, Recall: 0.99, F1-Score: 0.99\n",
      "\n"
     ]
    }
   ],
   "source": [
    "import os\n",
    "import numpy as np\n",
    "from sklearn.model_selection import train_test_split\n",
    "from sklearn.preprocessing import LabelEncoder\n",
    "from sklearn.metrics import accuracy_score\n",
    "from sklearn.svm import SVC\n",
    "from sklearn.tree import DecisionTreeClassifier\n",
    "from sklearn.ensemble import RandomForestClassifier\n",
    "from sklearn.neighbors import KNeighborsClassifier\n",
    "from PIL import Image\n",
    "\n",
    "# Define your data paths\n",
    "data_dir = \"Path Of Folder Where You Made Train, Test or Validation Folders\"\n",
    "train_dir = os.path.join(data_dir, \"Train\")\n",
    "test_dir = os.path.join(data_dir, \"Test\")\n",
    "validation_dir = os.path.join(data_dir, \"Validation\")\n",
    "\n",
    "# Function to load and preprocess images\n",
    "def load_and_preprocess_data(data_folder):\n",
    "    X = []  # Images\n",
    "    y = []  # Labels\n",
    "\n",
    "    for gender_folder in os.listdir(data_folder):\n",
    "        gender_path = os.path.join(data_folder, gender_folder)\n",
    "        if os.path.isdir(gender_path):\n",
    "            for image_file in os.listdir(gender_path):\n",
    "                if image_file.endswith(\".jpg\"):  # Assuming your images are in JPG format\n",
    "                    image_path = os.path.join(gender_path, image_file)\n",
    "                    image = Image.open(image_path).convert(\"RGB\")\n",
    "                    image = image.resize((64, 64))  # Resize images if needed\n",
    "                    image = np.array(image)\n",
    "                    X.append(image)\n",
    "                    y.append(gender_folder)  # Use folder name as the label\n",
    "\n",
    "    X = np.array(X)\n",
    "    y = np.array(y)\n",
    "\n",
    "    return X, y\n",
    "\n",
    "# Load and preprocess the data for train, validation, and test sets\n",
    "X_train, y_train = load_and_preprocess_data(train_dir)\n",
    "X_val, y_val = load_and_preprocess_data(validation_dir)\n",
    "X_test, y_test = load_and_preprocess_data(test_dir)\n",
    "\n",
    "# Encode class labels (e.g., 'male' and 'female') as numerical values\n",
    "label_encoder = LabelEncoder()\n",
    "y_train_encoded = label_encoder.fit_transform(y_train)\n",
    "y_val_encoded = label_encoder.transform(y_val)\n",
    "y_test_encoded = label_encoder.transform(y_test)\n",
    "\n",
    "from sklearn.metrics import accuracy_score, precision_score, recall_score, f1_score\n",
    "\n",
    "# Initialize and train multiple classification models (including SVC)\n",
    "models = [\n",
    "    DecisionTreeClassifier(),\n",
    "    RandomForestClassifier(),\n",
    "    KNeighborsClassifier(),\n",
    "    SVC()  # Include SVC in the models list\n",
    "]\n",
    "\n",
    "# Flatten the image data\n",
    "X_train_flat = X_train.reshape(X_train.shape[0], -1)\n",
    "X_val_flat = X_val.reshape(X_val.shape[0], -1)\n",
    "X_test_flat = X_test.reshape(X_test.shape[0], -1)\n",
    "\n",
    "for model in models:\n",
    "    model.fit(X_train_flat, y_train_encoded)\n",
    "    y_val_pred = model.predict(X_val_flat)\n",
    "    y_test_pred = model.predict(X_test_flat)\n",
    "\n",
    "    # Validation Metrics\n",
    "    val_accuracy = accuracy_score(y_val_encoded, y_val_pred)\n",
    "    val_precision = precision_score(y_val_encoded, y_val_pred, average='weighted')\n",
    "    val_recall = recall_score(y_val_encoded, y_val_pred, average='weighted')\n",
    "    val_f1 = f1_score(y_val_encoded, y_val_pred, average='weighted')\n",
    "\n",
    "    # Test Metrics\n",
    "    test_accuracy = accuracy_score(y_test_encoded, y_test_pred)\n",
    "    test_precision = precision_score(y_test_encoded, y_test_pred, average='weighted')\n",
    "    test_recall = recall_score(y_test_encoded, y_test_pred, average='weighted')\n",
    "    test_f1 = f1_score(y_test_encoded, y_test_pred, average='weighted')\n",
    "\n",
    "    print(f\"Model: {model.__class__.__name__}\")\n",
    "    print(f\"Validation Accuracy: {val_accuracy:.2f}, Precision: {val_precision:.2f}, Recall: {val_recall:.2f}, F1-Score: {val_f1:.2f}\")\n",
    "    print(f\"Test Accuracy: {test_accuracy:.2f}, Precision: {test_precision:.2f}, Recall: {test_recall:.2f}, F1-Score: {test_f1:.2f}\")\n",
    "    print()\n",
    "    "
   ]
  }
 ],
 "metadata": {
  "accelerator": "TPU",
  "colab": {
   "authorship_tag": "ABX9TyN8/4ngRKIDbJ8YADHwshFU",
   "mount_file_id": "1kgBUFj0zXvFQuoSu-VmnnhvA96V1_shd",
   "provenance": []
  },
  "kernelspec": {
   "display_name": "Python 3 (ipykernel)",
   "language": "python",
   "name": "python3"
  },
  "language_info": {
   "codemirror_mode": {
    "name": "ipython",
    "version": 3
   },
   "file_extension": ".py",
   "mimetype": "text/x-python",
   "name": "python",
   "nbconvert_exporter": "python",
   "pygments_lexer": "ipython3",
   "version": "3.10.9"
  }
 },
 "nbformat": 4,
 "nbformat_minor": 1
}
